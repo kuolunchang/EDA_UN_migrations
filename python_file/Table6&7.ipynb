{
 "cells": [
  {
   "cell_type": "code",
   "execution_count": 1,
   "id": "ad0295ee-5a8a-4103-b118-9b5900100fe1",
   "metadata": {},
   "outputs": [],
   "source": [
    "import pandas as pd\n",
    "import numpy as np\n",
    "import matplotlib.pyplot as plt\n",
    "import seaborn as sns\n",
    "import matplotlib as mpl"
   ]
  },
  {
   "cell_type": "code",
   "execution_count": 72,
   "id": "2f6fcb44-b74e-437e-aea2-160d582ea503",
   "metadata": {},
   "outputs": [],
   "source": [
    "df = pd.read_csv('table6- Estimated refugee stock.csv', index_col=[0], skiprows=14)\n",
    "df4 = pd.read_csv('country_reference.csv')"
   ]
  },
  {
   "cell_type": "code",
   "execution_count": 50,
   "id": "114f6123-7dc1-49b8-83e7-0dce1f566238",
   "metadata": {},
   "outputs": [],
   "source": [
    "df.columns = ['Major area, region, country or area of destination', 'Notes',\n",
    "       'Country code', 'Type of data (a)',\n",
    "       'Estimated refugee stock at mid-year (both sexes)1990', 'Estimated refugee stock at mid-year (both sexes)1995',\n",
    "       'Estimated refugee stock at mid-year (both sexes)2000', 'Estimated refugee stock at mid-year (both sexes)2005', \n",
    "       'Estimated refugee stock at mid-year (both sexes)2010', 'Estimated refugee stock at mid-year (both sexes)2015',\n",
    "       'Refugees as a percentage of the international migrant stock 1990', 'Refugees as a percentage of the international migrant stock 1995',\n",
    "       'Refugees as a percentage of the international migrant stock 2000', 'Refugees as a percentage of the international migrant stock 2005', 'Refugees as a percentage of the international migrant stock 2010', 'Refugees as a percentage of the international migrant stock 2015',\n",
    "       'Annual rate of change of the refugee stock 1990-1995', 'Annual rate of change of the refugee stock 1995-2000',\n",
    "       'Annual rate of change of the refugee stock 2000-2005', 'Annual rate of change of the refugee stock 2005-2010','Annual rate of change of the refugee stock 2010-2015',\n",
    "       'Unnamed: 23', 'Unnamed: 24', 'Unnamed: 25', 'Unnamed: 26','Unnamed: 22',\n",
    "       'Unnamed: 27', 'Unnamed: 28', 'Unnamed: 29', 'Unnamed: 30',\n",
    "       'Unnamed: 31']\n",
    "\n",
    "df = df.drop(columns=['Major area, region, country or area of destination', 'Notes','Unnamed: 23',\n",
    "       'Unnamed: 24', 'Unnamed: 25', 'Unnamed: 26', 'Unnamed: 27', 'Unnamed: 22',\n",
    "       'Unnamed: 28', 'Unnamed: 29', 'Unnamed: 30', 'Unnamed: 31',\n",
    "       ])\n",
    "\n",
    "df = df.dropna(subset = ['Type of data (a)']).drop(columns=['Type of data (a)'])"
   ]
  },
  {
   "cell_type": "code",
   "execution_count": 51,
   "id": "c1ec4956-222c-4549-9eeb-0887329f8a9f",
   "metadata": {},
   "outputs": [],
   "source": [
    "df1 = df.iloc[:,0:6]\n",
    "df2 = df[['Country code','Refugees as a percentage of the international migrant stock 1990', 'Refugees as a percentage of the international migrant stock 1995',\n",
    "       'Refugees as a percentage of the international migrant stock 2000', 'Refugees as a percentage of the international migrant stock 2005', 'Refugees as a percentage of the international migrant stock 2010', 'Refugees as a percentage of the international migrant stock 2015']]\n",
    "df3 = df[['Country code','Annual rate of change of the refugee stock 1990-1995', 'Annual rate of change of the refugee stock 1995-2000',\n",
    "       'Annual rate of change of the refugee stock 2000-2005', 'Annual rate of change of the refugee stock 2005-2010','Annual rate of change of the refugee stock 2010-2015']]"
   ]
  },
  {
   "cell_type": "code",
   "execution_count": 52,
   "id": "35076261-9aae-4bf5-a466-7cfad9ca2372",
   "metadata": {},
   "outputs": [],
   "source": [
    "df1 = df1.melt (\n",
    "    id_vars=['Country code'], \n",
    "    var_name=['year'], \n",
    "    value_name='Amount'\n",
    "    )\n",
    "\n",
    "df1 = df1.assign (\n",
    "    Year = lambda x: x.year.str[-4:]).drop(columns =['year'], axis=0)"
   ]
  },
  {
   "cell_type": "code",
   "execution_count": 53,
   "id": "3b79abf8-9616-4cee-a0a9-5e1045c1d0f8",
   "metadata": {},
   "outputs": [
    {
     "data": {
      "text/html": [
       "<div>\n",
       "<style scoped>\n",
       "    .dataframe tbody tr th:only-of-type {\n",
       "        vertical-align: middle;\n",
       "    }\n",
       "\n",
       "    .dataframe tbody tr th {\n",
       "        vertical-align: top;\n",
       "    }\n",
       "\n",
       "    .dataframe thead th {\n",
       "        text-align: right;\n",
       "    }\n",
       "</style>\n",
       "<table border=\"1\" class=\"dataframe\">\n",
       "  <thead>\n",
       "    <tr style=\"text-align: right;\">\n",
       "      <th></th>\n",
       "      <th>Country code</th>\n",
       "      <th>Amount</th>\n",
       "      <th>Year</th>\n",
       "    </tr>\n",
       "  </thead>\n",
       "  <tbody>\n",
       "    <tr>\n",
       "      <th>0</th>\n",
       "      <td>108.0</td>\n",
       "      <td>267 929</td>\n",
       "      <td>1990</td>\n",
       "    </tr>\n",
       "    <tr>\n",
       "      <th>1</th>\n",
       "      <td>174.0</td>\n",
       "      <td>0</td>\n",
       "      <td>1990</td>\n",
       "    </tr>\n",
       "    <tr>\n",
       "      <th>2</th>\n",
       "      <td>262.0</td>\n",
       "      <td>54 508</td>\n",
       "      <td>1990</td>\n",
       "    </tr>\n",
       "    <tr>\n",
       "      <th>3</th>\n",
       "      <td>232.0</td>\n",
       "      <td>0</td>\n",
       "      <td>1990</td>\n",
       "    </tr>\n",
       "    <tr>\n",
       "      <th>4</th>\n",
       "      <td>231.0</td>\n",
       "      <td>741 965</td>\n",
       "      <td>1990</td>\n",
       "    </tr>\n",
       "    <tr>\n",
       "      <th>...</th>\n",
       "      <td>...</td>\n",
       "      <td>...</td>\n",
       "      <td>...</td>\n",
       "    </tr>\n",
       "    <tr>\n",
       "      <th>1155</th>\n",
       "      <td>882.0</td>\n",
       "      <td>0</td>\n",
       "      <td>2010</td>\n",
       "    </tr>\n",
       "    <tr>\n",
       "      <th>1156</th>\n",
       "      <td>772.0</td>\n",
       "      <td>0</td>\n",
       "      <td>2010</td>\n",
       "    </tr>\n",
       "    <tr>\n",
       "      <th>1157</th>\n",
       "      <td>776.0</td>\n",
       "      <td>0</td>\n",
       "      <td>2010</td>\n",
       "    </tr>\n",
       "    <tr>\n",
       "      <th>1158</th>\n",
       "      <td>798.0</td>\n",
       "      <td>0</td>\n",
       "      <td>2010</td>\n",
       "    </tr>\n",
       "    <tr>\n",
       "      <th>1159</th>\n",
       "      <td>876.0</td>\n",
       "      <td>0</td>\n",
       "      <td>2010</td>\n",
       "    </tr>\n",
       "  </tbody>\n",
       "</table>\n",
       "<p>1160 rows × 3 columns</p>\n",
       "</div>"
      ],
      "text/plain": [
       "      Country code     Amount  Year\n",
       "0            108.0    267 929  1990\n",
       "1            174.0          0  1990\n",
       "2            262.0     54 508  1990\n",
       "3            232.0          0  1990\n",
       "4            231.0    741 965  1990\n",
       "...            ...        ...   ...\n",
       "1155         882.0          0  2010\n",
       "1156         772.0          0  2010\n",
       "1157         776.0          0  2010\n",
       "1158         798.0          0  2010\n",
       "1159         876.0          0  2010\n",
       "\n",
       "[1160 rows x 3 columns]"
      ]
     },
     "execution_count": 53,
     "metadata": {},
     "output_type": "execute_result"
    }
   ],
   "source": [
    "df1"
   ]
  },
  {
   "cell_type": "code",
   "execution_count": 54,
   "id": "78902802-fafe-4feb-a29b-8bfeca8d44a2",
   "metadata": {},
   "outputs": [],
   "source": [
    "df2 = df2.melt (\n",
    "    id_vars=['Country code'], \n",
    "    var_name=['year'], \n",
    "    value_name='Refugees as a percentage of the international migrant stock'\n",
    "    )\n",
    "\n",
    "df2 = df2.assign (\n",
    "    Year = lambda x: x.year.str[-4:]).drop(columns =['year'], axis=0)"
   ]
  },
  {
   "cell_type": "code",
   "execution_count": 55,
   "id": "bdd2942a-0322-419d-889c-35065a7dc601",
   "metadata": {},
   "outputs": [
    {
     "data": {
      "text/html": [
       "<div>\n",
       "<style scoped>\n",
       "    .dataframe tbody tr th:only-of-type {\n",
       "        vertical-align: middle;\n",
       "    }\n",
       "\n",
       "    .dataframe tbody tr th {\n",
       "        vertical-align: top;\n",
       "    }\n",
       "\n",
       "    .dataframe thead th {\n",
       "        text-align: right;\n",
       "    }\n",
       "</style>\n",
       "<table border=\"1\" class=\"dataframe\">\n",
       "  <thead>\n",
       "    <tr style=\"text-align: right;\">\n",
       "      <th></th>\n",
       "      <th>Country code</th>\n",
       "      <th>Refugees as a percentage of the international migrant stock</th>\n",
       "      <th>Year</th>\n",
       "    </tr>\n",
       "  </thead>\n",
       "  <tbody>\n",
       "    <tr>\n",
       "      <th>0</th>\n",
       "      <td>108.0</td>\n",
       "      <td>80.4</td>\n",
       "      <td>1990</td>\n",
       "    </tr>\n",
       "    <tr>\n",
       "      <th>1</th>\n",
       "      <td>174.0</td>\n",
       "      <td>0.0</td>\n",
       "      <td>1990</td>\n",
       "    </tr>\n",
       "    <tr>\n",
       "      <th>2</th>\n",
       "      <td>262.0</td>\n",
       "      <td>44.6</td>\n",
       "      <td>1990</td>\n",
       "    </tr>\n",
       "    <tr>\n",
       "      <th>3</th>\n",
       "      <td>232.0</td>\n",
       "      <td>0.0</td>\n",
       "      <td>1990</td>\n",
       "    </tr>\n",
       "    <tr>\n",
       "      <th>4</th>\n",
       "      <td>231.0</td>\n",
       "      <td>64.2</td>\n",
       "      <td>1990</td>\n",
       "    </tr>\n",
       "    <tr>\n",
       "      <th>...</th>\n",
       "      <td>...</td>\n",
       "      <td>...</td>\n",
       "      <td>...</td>\n",
       "    </tr>\n",
       "    <tr>\n",
       "      <th>1387</th>\n",
       "      <td>882.0</td>\n",
       "      <td>0.0</td>\n",
       "      <td>2015</td>\n",
       "    </tr>\n",
       "    <tr>\n",
       "      <th>1388</th>\n",
       "      <td>772.0</td>\n",
       "      <td>0.0</td>\n",
       "      <td>2015</td>\n",
       "    </tr>\n",
       "    <tr>\n",
       "      <th>1389</th>\n",
       "      <td>776.0</td>\n",
       "      <td>0.0</td>\n",
       "      <td>2015</td>\n",
       "    </tr>\n",
       "    <tr>\n",
       "      <th>1390</th>\n",
       "      <td>798.0</td>\n",
       "      <td>0.0</td>\n",
       "      <td>2015</td>\n",
       "    </tr>\n",
       "    <tr>\n",
       "      <th>1391</th>\n",
       "      <td>876.0</td>\n",
       "      <td>0.0</td>\n",
       "      <td>2015</td>\n",
       "    </tr>\n",
       "  </tbody>\n",
       "</table>\n",
       "<p>1392 rows × 3 columns</p>\n",
       "</div>"
      ],
      "text/plain": [
       "      Country code  \\\n",
       "0            108.0   \n",
       "1            174.0   \n",
       "2            262.0   \n",
       "3            232.0   \n",
       "4            231.0   \n",
       "...            ...   \n",
       "1387         882.0   \n",
       "1388         772.0   \n",
       "1389         776.0   \n",
       "1390         798.0   \n",
       "1391         876.0   \n",
       "\n",
       "     Refugees as a percentage of the international migrant stock  Year  \n",
       "0                                                  80.4           1990  \n",
       "1                                                   0.0           1990  \n",
       "2                                                  44.6           1990  \n",
       "3                                                   0.0           1990  \n",
       "4                                                  64.2           1990  \n",
       "...                                                 ...            ...  \n",
       "1387                                                0.0           2015  \n",
       "1388                                                0.0           2015  \n",
       "1389                                                0.0           2015  \n",
       "1390                                                0.0           2015  \n",
       "1391                                                0.0           2015  \n",
       "\n",
       "[1392 rows x 3 columns]"
      ]
     },
     "execution_count": 55,
     "metadata": {},
     "output_type": "execute_result"
    }
   ],
   "source": [
    "df2"
   ]
  },
  {
   "cell_type": "code",
   "execution_count": 56,
   "id": "87ea826b-1eee-4c1c-953b-778732aaa217",
   "metadata": {},
   "outputs": [],
   "source": [
    "df3 = df3.melt (\n",
    "    id_vars=['Country code'], \n",
    "    var_name=['year'], \n",
    "    value_name='Refugees as a percentage of the international migrant stock'\n",
    "    )\n",
    "\n",
    "df3 = df3.assign (\n",
    "    Year = lambda x: x.year.str[-4:]).drop(columns =['year'], axis=0)"
   ]
  },
  {
   "cell_type": "code",
   "execution_count": 57,
   "id": "803e902b-7a4b-442e-b581-0966767d5a3e",
   "metadata": {},
   "outputs": [
    {
     "data": {
      "text/html": [
       "<div>\n",
       "<style scoped>\n",
       "    .dataframe tbody tr th:only-of-type {\n",
       "        vertical-align: middle;\n",
       "    }\n",
       "\n",
       "    .dataframe tbody tr th {\n",
       "        vertical-align: top;\n",
       "    }\n",
       "\n",
       "    .dataframe thead th {\n",
       "        text-align: right;\n",
       "    }\n",
       "</style>\n",
       "<table border=\"1\" class=\"dataframe\">\n",
       "  <thead>\n",
       "    <tr style=\"text-align: right;\">\n",
       "      <th></th>\n",
       "      <th>Country code</th>\n",
       "      <th>Refugees as a percentage of the international migrant stock</th>\n",
       "      <th>Year</th>\n",
       "    </tr>\n",
       "  </thead>\n",
       "  <tbody>\n",
       "    <tr>\n",
       "      <th>0</th>\n",
       "      <td>108.0</td>\n",
       "      <td>-3.39</td>\n",
       "      <td>1995</td>\n",
       "    </tr>\n",
       "    <tr>\n",
       "      <th>1</th>\n",
       "      <td>174.0</td>\n",
       "      <td>..</td>\n",
       "      <td>1995</td>\n",
       "    </tr>\n",
       "    <tr>\n",
       "      <th>2</th>\n",
       "      <td>262.0</td>\n",
       "      <td>-9.76</td>\n",
       "      <td>1995</td>\n",
       "    </tr>\n",
       "    <tr>\n",
       "      <th>3</th>\n",
       "      <td>232.0</td>\n",
       "      <td>..</td>\n",
       "      <td>1995</td>\n",
       "    </tr>\n",
       "    <tr>\n",
       "      <th>4</th>\n",
       "      <td>231.0</td>\n",
       "      <td>-5.51</td>\n",
       "      <td>1995</td>\n",
       "    </tr>\n",
       "    <tr>\n",
       "      <th>...</th>\n",
       "      <td>...</td>\n",
       "      <td>...</td>\n",
       "      <td>...</td>\n",
       "    </tr>\n",
       "    <tr>\n",
       "      <th>1155</th>\n",
       "      <td>882.0</td>\n",
       "      <td>..</td>\n",
       "      <td>2015</td>\n",
       "    </tr>\n",
       "    <tr>\n",
       "      <th>1156</th>\n",
       "      <td>772.0</td>\n",
       "      <td>..</td>\n",
       "      <td>2015</td>\n",
       "    </tr>\n",
       "    <tr>\n",
       "      <th>1157</th>\n",
       "      <td>776.0</td>\n",
       "      <td>..</td>\n",
       "      <td>2015</td>\n",
       "    </tr>\n",
       "    <tr>\n",
       "      <th>1158</th>\n",
       "      <td>798.0</td>\n",
       "      <td>..</td>\n",
       "      <td>2015</td>\n",
       "    </tr>\n",
       "    <tr>\n",
       "      <th>1159</th>\n",
       "      <td>876.0</td>\n",
       "      <td>..</td>\n",
       "      <td>2015</td>\n",
       "    </tr>\n",
       "  </tbody>\n",
       "</table>\n",
       "<p>1160 rows × 3 columns</p>\n",
       "</div>"
      ],
      "text/plain": [
       "      Country code  \\\n",
       "0            108.0   \n",
       "1            174.0   \n",
       "2            262.0   \n",
       "3            232.0   \n",
       "4            231.0   \n",
       "...            ...   \n",
       "1155         882.0   \n",
       "1156         772.0   \n",
       "1157         776.0   \n",
       "1158         798.0   \n",
       "1159         876.0   \n",
       "\n",
       "     Refugees as a percentage of the international migrant stock  Year  \n",
       "0                                                 -3.39           1995  \n",
       "1                                                    ..           1995  \n",
       "2                                                 -9.76           1995  \n",
       "3                                                    ..           1995  \n",
       "4                                                 -5.51           1995  \n",
       "...                                                 ...            ...  \n",
       "1155                                                 ..           2015  \n",
       "1156                                                 ..           2015  \n",
       "1157                                                 ..           2015  \n",
       "1158                                                 ..           2015  \n",
       "1159                                                 ..           2015  \n",
       "\n",
       "[1160 rows x 3 columns]"
      ]
     },
     "execution_count": 57,
     "metadata": {},
     "output_type": "execute_result"
    }
   ],
   "source": [
    "df3"
   ]
  },
  {
   "cell_type": "code",
   "execution_count": 69,
   "id": "386141df-504a-4e55-beeb-62f46ce4d937",
   "metadata": {},
   "outputs": [],
   "source": [
    "df1['Amount'] = df1['Amount'].str.strip()\n",
    "df1['Amount'] = df1['Amount'].str.replace(\" \",\"\")\n",
    "df1['Amount'] = df1['Amount'].fillna(0)\n",
    "df1['Amount'] = pd.to_numeric(df1['Amount'], errors='coerce')"
   ]
  },
  {
   "cell_type": "code",
   "execution_count": 70,
   "id": "2addec98-77d0-4871-873a-da7ed2fcab80",
   "metadata": {},
   "outputs": [
    {
     "data": {
      "text/plain": [
       "<AxesSubplot:xlabel='Year', ylabel='Amount'>"
      ]
     },
     "execution_count": 70,
     "metadata": {},
     "output_type": "execute_result"
    },
    {
     "data": {
      "image/png": "[encoded data removed]",
      "text/plain": [
       "<Figure size 1080x576 with 1 Axes>"
      ]
     },
     "metadata": {
      "needs_background": "light"
     },
     "output_type": "display_data"
    }
   ],
   "source": [
    "# graphic1, refugee stocks, gender\n",
    "\n",
    "test1 = pd.DataFrame(df1.groupby(['Year']).sum(), columns = ['Amount'])\n",
    "test1.plot(kind='bar', figsize=(15,8), alpha=0.75, rot=0, ylabel='Amount')"
   ]
  },
  {
   "cell_type": "code",
   "execution_count": 73,
   "id": "64c2fa1d-e5c6-48d6-852f-33be0db01bb4",
   "metadata": {},
   "outputs": [
    {
     "data": {
      "text/plain": [
       "<matplotlib.legend.Legend at 0x26af7bffb70>"
      ]
     },
     "execution_count": 73,
     "metadata": {},
     "output_type": "execute_result"
    },
    {
     "data": {
      "image/png": "[encoded data removed]",
      "text/plain": [
       "<Figure size 1080x360 with 1 Axes>"
      ]
     },
     "metadata": {
      "needs_background": "light"
     },
     "output_type": "display_data"
    },
    {
     "data": {
      "image/png": "[encoded data removed]",
      "text/plain": [
       "<Figure size 1080x360 with 1 Axes>"
      ]
     },
     "metadata": {
      "needs_background": "light"
     },
     "output_type": "display_data"
    }
   ],
   "source": [
    "# graphic2, refugee stocks, region\n",
    "\n",
    "df4_reference = df4[['Country code','Major area' , 'Region', 'Developed region', 'Least developed country']]\n",
    "df3_4 = pd.merge(df1,df4_reference,on=['Country code'],how='left')\n",
    "test8 = df3_4.groupby(['Year', 'Major area']).sum().drop(columns=['Country code'])\n",
    "graphic_8 = pd.pivot_table(test8, index='Year', columns='Major area', values='Amount')\n",
    "graphic_8.plot(kind='bar', figsize=(15,5), alpha=0.75, rot=0, ylabel='Amount').legend(loc='center left',bbox_to_anchor=(1.0, 0.5))\n",
    "\n",
    "#highest 3: Asia, Africa, Europe, dive into these 3 areas region\n",
    "test8 = df3_4.loc[(df3_4['Major area'] == 'Asia') | (df3_4['Major area'] == 'Africa')  \n",
    "                   | (df3_4['Major area'] == 'Europe')].groupby(['Year', 'Region']).sum().drop(columns=['Country code'])\n",
    "graphic_8 = pd.pivot_table(test8, index='Year', columns='Region', values='Amount')\n",
    "\n",
    "\n",
    "graphic_8.plot(kind='bar', figsize=(15, 5), alpha=0.75, rot=0, ylabel='Amount').legend(loc='center left',bbox_to_anchor=(1.0, 0.5))"
   ]
  },
  {
   "cell_type": "code",
   "execution_count": null,
   "id": "67a24148-158c-4cbd-882f-60422116b839",
   "metadata": {},
   "outputs": [],
   "source": []
  }
 ],
 "metadata": {
  "kernelspec": {
   "display_name": "Python 3 (ipykernel)",
   "language": "python",
   "name": "python3"
  },
  "language_info": {
   "codemirror_mode": {
    "name": "ipython",
    "version": 3
   },
   "file_extension": ".py",
   "mimetype": "text/x-python",
   "name": "python",
   "nbconvert_exporter": "python",
   "pygments_lexer": "ipython3",
   "version": "3.7.3"
  }
 },
 "nbformat": 4,
 "nbformat_minor": 5
}
